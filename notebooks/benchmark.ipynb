{
 "cells": [
  {
   "cell_type": "code",
   "execution_count": null,
   "metadata": {},
   "outputs": [],
   "source": [
    "import numpy as np\n",
    "from PIL import Image\n",
    "from io import BytesIO\n",
    "import json\n",
    "import base64\n",
    "from encrusted import encode_mask, decode_mask"
   ]
  },
  {
   "cell_type": "code",
   "execution_count": null,
   "metadata": {},
   "outputs": [],
   "source": [
    "def img_bytes_to_b64_str(img_bytes):\n",
    "    img_bytes_b64 = base64.b64encode(img_bytes)\n",
    "    img_str_b64 = img_bytes_b64.decode(\"ascii\")\n",
    "    return img_str_b64\n",
    "\n",
    "def b64_str_to_img_bytes(b64_str):\n",
    "    img_bytes_b64 = b64_str.encode(\"ascii\")\n",
    "    img_bytes = base64.b64decode(img_bytes_b64)\n",
    "    return img_bytes"
   ]
  },
  {
   "cell_type": "code",
   "execution_count": null,
   "metadata": {},
   "outputs": [],
   "source": [
    "TEST_SIZE = (28, 1532, 1532)"
   ]
  },
  {
   "cell_type": "code",
   "execution_count": null,
   "metadata": {},
   "outputs": [],
   "source": [
    "# make quantized mask\n",
    "arr = np.random.uniform(0, 1, TEST_SIZE)\n",
    "quantized_arr = (arr * 256 // 1).astype(np.uint8)"
   ]
  },
  {
   "cell_type": "code",
   "execution_count": null,
   "metadata": {},
   "outputs": [],
   "source": [
    "%%timeit\n",
    "pngs = []\n",
    "for mask in quantized_arr:\n",
    "    img = Image.fromarray(mask)\n",
    "    bio = BytesIO()\n",
    "    img.save(bio, \"PNG\")\n",
    "    pngs.append(\n",
    "        {\n",
    "            \"mask\":img_bytes_to_b64_str(bio.getvalue())\n",
    "        }\n",
    "    )"
   ]
  },
  {
   "cell_type": "code",
   "execution_count": null,
   "metadata": {},
   "outputs": [],
   "source": [
    "# see size\n",
    "pngs = []\n",
    "for mask in quantized_arr:\n",
    "    img = Image.fromarray(mask)\n",
    "    bio = BytesIO()\n",
    "    img.save(bio, \"PNG\")\n",
    "    pngs.append(\n",
    "        {\n",
    "            \"mask\":img_bytes_to_b64_str(bio.getvalue())\n",
    "        }\n",
    "    )\n",
    "\n",
    "print([len(d[\"mask\"])//1_000 for d in pngs])"
   ]
  },
  {
   "cell_type": "code",
   "execution_count": null,
   "metadata": {},
   "outputs": [],
   "source": [
    "%%timeit\n",
    "vecs = []\n",
    "for mask in quantized_arr:\n",
    "    vecs.append({\n",
    "        \"mask\": img_bytes_to_b64_str(encode_mask(mask))\n",
    "    })"
   ]
  },
  {
   "cell_type": "code",
   "execution_count": null,
   "metadata": {},
   "outputs": [],
   "source": [
    "# see sizes\n",
    "vecs = []\n",
    "for mask in quantized_arr:\n",
    "    vecs.append({\n",
    "        \"mask\": img_bytes_to_b64_str(encode_mask(mask))\n",
    "    })\n",
    "\n",
    "print([len(d[\"mask\"])//1_000 for d in vecs])"
   ]
  },
  {
   "cell_type": "code",
   "execution_count": null,
   "metadata": {},
   "outputs": [],
   "source": [
    "# assert lossless\n",
    "for mask in quantized_arr:\n",
    "    img_str = img_bytes_to_b64_str(encode_mask(mask))\n",
    "    decoded_mask = decode_mask(b64_str_to_img_bytes(img_str))\n",
    "    assert (decoded_mask == mask).all()"
   ]
  }
 ],
 "metadata": {
  "kernelspec": {
   "display_name": "Python 3.10.8 ('.venv-310': venv)",
   "language": "python",
   "name": "python3"
  },
  "language_info": {
   "codemirror_mode": {
    "name": "ipython",
    "version": 3
   },
   "file_extension": ".py",
   "mimetype": "text/x-python",
   "name": "python",
   "nbconvert_exporter": "python",
   "pygments_lexer": "ipython3",
   "version": "3.10.8"
  },
  "orig_nbformat": 4,
  "vscode": {
   "interpreter": {
    "hash": "13e1bf3c2df18d3a9866c7ed17e30d9c1d2aec44db4f483a27f07a531981d94b"
   }
  }
 },
 "nbformat": 4,
 "nbformat_minor": 2
}
