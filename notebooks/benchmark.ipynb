{
 "cells": [
  {
   "cell_type": "code",
   "execution_count": 1,
   "metadata": {},
   "outputs": [],
   "source": [
    "import numpy as np\n",
    "from PIL import Image\n",
    "from io import BytesIO\n",
    "import json\n",
    "import base64\n",
    "from encrusted import decode, encode \n",
    "import encrusted"
   ]
  },
  {
   "cell_type": "code",
   "execution_count": 2,
   "metadata": {},
   "outputs": [],
   "source": [
    "def img_bytes_to_b64_str(img_bytes):\n",
    "    img_bytes_b64 = base64.b64encode(img_bytes)\n",
    "    img_str_b64 = img_bytes_b64.decode(\"ascii\")\n",
    "    return img_str_b64\n",
    "\n",
    "def b64_str_to_img_bytes(b64_str):\n",
    "    img_bytes_b64 = b64_str.encode(\"ascii\")\n",
    "    img_bytes = base64.b64decode(img_bytes_b64)\n",
    "    return img_bytes"
   ]
  },
  {
   "cell_type": "code",
   "execution_count": 3,
   "metadata": {},
   "outputs": [],
   "source": [
    "TEST_SIZE = (3, 512, 512)\n",
    "TEST_TYPE = np.int32"
   ]
  },
  {
   "cell_type": "code",
   "execution_count": 4,
   "metadata": {},
   "outputs": [],
   "source": [
    "# make quantized mask\n",
    "arr = np.random.uniform(0, 1, TEST_SIZE)\n",
    "quantized_arr = (arr * 256 // 1).astype(TEST_TYPE)"
   ]
  },
  {
   "cell_type": "markdown",
   "metadata": {},
   "source": [
    "### numpy save and load"
   ]
  },
  {
   "cell_type": "code",
   "execution_count": 5,
   "metadata": {},
   "outputs": [
    {
     "name": "stdout",
     "output_type": "stream",
     "text": [
      "4.86 ms ± 22.9 µs per loop (mean ± std. dev. of 7 runs, 100 loops each)\n"
     ]
    }
   ],
   "source": [
    "%%timeit\n",
    "byte_strings = []\n",
    "for mask in quantized_arr:\n",
    "    np_bytes = BytesIO()\n",
    "    np.save(np_bytes, mask, allow_pickle=True)\n",
    "    byte_strings.append(\n",
    "        {\n",
    "            \"mask\":img_bytes_to_b64_str(np_bytes.getvalue())\n",
    "        }\n",
    "    )"
   ]
  },
  {
   "cell_type": "code",
   "execution_count": 6,
   "metadata": {},
   "outputs": [],
   "source": [
    "byte_strings = []\n",
    "for mask in quantized_arr:\n",
    "    np_bytes = BytesIO()\n",
    "    np.save(np_bytes, mask, allow_pickle=True)\n",
    "    byte_strings.append(\n",
    "        {\n",
    "            \"mask\":img_bytes_to_b64_str(np_bytes.getvalue())\n",
    "        }\n",
    "    )"
   ]
  },
  {
   "cell_type": "code",
   "execution_count": 7,
   "metadata": {},
   "outputs": [
    {
     "name": "stdout",
     "output_type": "stream",
     "text": [
      "8.45 ms ± 26.3 µs per loop (mean ± std. dev. of 7 runs, 100 loops each)\n"
     ]
    }
   ],
   "source": [
    "%%timeit\n",
    "masks = []\n",
    "for byte_str in byte_strings:\n",
    "    np_bytes = BytesIO()\n",
    "    masks.append({\n",
    "        \"mask\": np.load(BytesIO(b64_str_to_img_bytes(byte_str[\"mask\"])), allow_pickle=True)\n",
    "    })"
   ]
  },
  {
   "cell_type": "code",
   "execution_count": 8,
   "metadata": {},
   "outputs": [],
   "source": [
    "# assert lossless\n",
    "for mask in quantized_arr:\n",
    "    np_bytes = BytesIO()\n",
    "    np.save(np_bytes, mask)\n",
    "    byte_str = img_bytes_to_b64_str(np_bytes.getvalue())\n",
    "    decoded_mask = np.load(BytesIO(b64_str_to_img_bytes(byte_str)))\n",
    "    assert (decoded_mask == mask).all()"
   ]
  },
  {
   "cell_type": "markdown",
   "metadata": {},
   "source": [
    "### encrusted"
   ]
  },
  {
   "cell_type": "code",
   "execution_count": 9,
   "metadata": {},
   "outputs": [
    {
     "name": "stdout",
     "output_type": "stream",
     "text": [
      "16.2 ms ± 90.7 µs per loop (mean ± std. dev. of 7 runs, 100 loops each)\n"
     ]
    }
   ],
   "source": [
    "%%timeit\n",
    "byte_strings = []\n",
    "for mask in quantized_arr:\n",
    "    byte_strings.append({\n",
    "        \"mask\": encode(mask)\n",
    "    })"
   ]
  },
  {
   "cell_type": "code",
   "execution_count": 10,
   "metadata": {},
   "outputs": [],
   "source": [
    "byte_strings = []\n",
    "for mask in quantized_arr:\n",
    "    byte_strings.append({\n",
    "        \"mask\": encode(mask)\n",
    "    })"
   ]
  },
  {
   "cell_type": "code",
   "execution_count": 11,
   "metadata": {},
   "outputs": [
    {
     "name": "stdout",
     "output_type": "stream",
     "text": [
      "11 ms ± 296 µs per loop (mean ± std. dev. of 7 runs, 100 loops each)\n"
     ]
    }
   ],
   "source": [
    "%%timeit\n",
    "masks = []\n",
    "for byte_str in byte_strings:\n",
    "    masks.append({\n",
    "        \"mask\": decode(byte_str[\"mask\"], TEST_TYPE)\n",
    "    })"
   ]
  },
  {
   "cell_type": "code",
   "execution_count": 12,
   "metadata": {},
   "outputs": [],
   "source": [
    "# assert lossless\n",
    "for mask in quantized_arr:\n",
    "    img_str = encode(mask)\n",
    "    decoded_mask = decode(img_str, TEST_TYPE)\n",
    "    assert (decoded_mask == mask).all()"
   ]
  },
  {
   "cell_type": "markdown",
   "metadata": {},
   "source": [
    "### png encoding"
   ]
  },
  {
   "cell_type": "code",
   "execution_count": 17,
   "metadata": {},
   "outputs": [
    {
     "name": "stdout",
     "output_type": "stream",
     "text": [
      "177 ms ± 1.5 ms per loop (mean ± std. dev. of 7 runs, 10 loops each)\n"
     ]
    }
   ],
   "source": [
    "%%timeit\n",
    "pngs = []\n",
    "for mask in quantized_arr:\n",
    "    img = Image.fromarray(mask)\n",
    "    bio = BytesIO()\n",
    "    img.save(bio, \"PNG\")\n",
    "    pngs.append(\n",
    "        {\n",
    "            \"mask\":img_bytes_to_b64_str(bio.getvalue())\n",
    "        }\n",
    "    )"
   ]
  },
  {
   "cell_type": "code",
   "execution_count": null,
   "metadata": {},
   "outputs": [],
   "source": []
  },
  {
   "cell_type": "code",
   "execution_count": 13,
   "metadata": {},
   "outputs": [],
   "source": [
    "pngs = []\n",
    "for mask in quantized_arr:\n",
    "    img = Image.fromarray(mask)\n",
    "    bio = BytesIO()\n",
    "    img.save(bio, \"PNG\")\n",
    "    pngs.append(\n",
    "        {\n",
    "            \"mask\":img_bytes_to_b64_str(bio.getvalue())\n",
    "        }\n",
    "    )"
   ]
  },
  {
   "cell_type": "code",
   "execution_count": 14,
   "metadata": {},
   "outputs": [],
   "source": [
    "byte_strings = []\n",
    "for mask in quantized_arr:\n",
    "    byte_strings.append({\n",
    "        \"mask\": encode(mask)\n",
    "    })"
   ]
  },
  {
   "cell_type": "code",
   "execution_count": 15,
   "metadata": {},
   "outputs": [
    {
     "data": {
      "text/plain": [
       "[436, 436, 436]"
      ]
     },
     "execution_count": 15,
     "metadata": {},
     "output_type": "execute_result"
    }
   ],
   "source": [
    "[len(a[\"mask\"])//1_000 for a in pngs]"
   ]
  },
  {
   "cell_type": "code",
   "execution_count": 16,
   "metadata": {},
   "outputs": [
    {
     "data": {
      "text/plain": [
       "[544, 544, 544]"
      ]
     },
     "execution_count": 16,
     "metadata": {},
     "output_type": "execute_result"
    }
   ],
   "source": [
    "[len(a[\"mask\"])//1_000 for a in byte_strings]"
   ]
  },
  {
   "cell_type": "code",
   "execution_count": null,
   "metadata": {},
   "outputs": [],
   "source": []
  }
 ],
 "metadata": {
  "kernelspec": {
   "display_name": "Python 3.10.8 ('.venv-310': venv)",
   "language": "python",
   "name": "python3"
  },
  "language_info": {
   "codemirror_mode": {
    "name": "ipython",
    "version": 3
   },
   "file_extension": ".py",
   "mimetype": "text/x-python",
   "name": "python",
   "nbconvert_exporter": "python",
   "pygments_lexer": "ipython3",
   "version": "3.10.8"
  },
  "orig_nbformat": 4,
  "vscode": {
   "interpreter": {
    "hash": "13e1bf3c2df18d3a9866c7ed17e30d9c1d2aec44db4f483a27f07a531981d94b"
   }
  }
 },
 "nbformat": 4,
 "nbformat_minor": 2
}
